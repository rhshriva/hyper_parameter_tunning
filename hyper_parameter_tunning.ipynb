{
 "cells": [
  {
   "cell_type": "code",
   "execution_count": null,
   "metadata": {},
   "outputs": [],
   "source": [
    "%pip install torch torchvision optuna \"optuna[visualization]\" plotly "
   ]
  },
  {
   "cell_type": "code",
   "execution_count": null,
   "metadata": {},
   "outputs": [],
   "source": [
    "%pip install --upgrade nbformat"
   ]
  },
  {
   "cell_type": "code",
   "execution_count": null,
   "metadata": {},
   "outputs": [],
   "source": [
    "pip install scikit-learn"
   ]
  },
  {
   "cell_type": "code",
   "execution_count": 1,
   "metadata": {},
   "outputs": [],
   "source": [
    "import torch\n",
    "import torch.nn as nn\n",
    "import torch.optim as optim\n",
    "from torchvision import datasets, transforms\n",
    "from torch.utils.data import DataLoader"
   ]
  },
  {
   "cell_type": "code",
   "execution_count": null,
   "metadata": {},
   "outputs": [],
   "source": [
    "import torch\n",
    "import optuna\n",
    "print(torch.backends.mps.is_available())  # Should return True on supported macOS + Apple Silicon\n",
    "print(torch.backends.mps.is_built())      # Should also return True if MPS support is built\n"
   ]
  },
  {
   "cell_type": "code",
   "execution_count": null,
   "metadata": {},
   "outputs": [],
   "source": [
    "import torch\n",
    "\n",
    "if torch.backends.mps.is_available():\n",
    "    device = torch.device(\"mps\")\n",
    "else:\n",
    "    device = torch.device(\"cpu\")\n",
    "\n",
    "print(\"Using device:\", device)"
   ]
  },
  {
   "cell_type": "code",
   "execution_count": 4,
   "metadata": {},
   "outputs": [],
   "source": [
    "transform = transforms.Compose([\n",
    "    transforms.ToTensor(),\n",
    "    transforms.Normalize((0.1307,), (0.3081,))\n",
    "])\n",
    "\n",
    "train_dataset = datasets.MNIST(root='./data', train=True, \n",
    "                               download=True, transform=transform)\n",
    "val_dataset = datasets.MNIST(root='./data', train=False, \n",
    "                             download=True, transform=transform)\n",
    "\n",
    "# We will split the test set into \"validation\" for simplicity.\n",
    "# In a real scenario, you might keep a separate validation set\n",
    "# or use cross-validation techniques.\n",
    "val_loader = DataLoader(val_dataset, batch_size=1000, shuffle=False)"
   ]
  },
  {
   "cell_type": "code",
   "execution_count": 5,
   "metadata": {},
   "outputs": [],
   "source": [
    "# -------------------------------------------------------------------------\n",
    "# 2. Model Definition\n",
    "# -------------------------------------------------------------------------\n",
    "class SimpleNet(nn.Module):\n",
    "    def __init__(self, input_dim, hidden_dim, output_dim):\n",
    "        super(SimpleNet, self).__init__()\n",
    "        self.fc1 = nn.Linear(input_dim, hidden_dim)\n",
    "        self.relu = nn.ReLU()\n",
    "        self.fc2 = nn.Linear(hidden_dim, output_dim)\n",
    "        \n",
    "    def forward(self, x):\n",
    "        # Flatten the input from (B, 1, 28, 28) to (B, 784)\n",
    "        x = x.view(x.size(0), -1)\n",
    "        x = self.fc1(x)\n",
    "        x = self.relu(x)\n",
    "        x = self.fc2(x)\n",
    "        return x\n"
   ]
  },
  {
   "cell_type": "code",
   "execution_count": 6,
   "metadata": {},
   "outputs": [],
   "source": [
    "# -------------------------------------------------------------------------\n",
    "# 3. Training & Validation Functions\n",
    "# -------------------------------------------------------------------------\n",
    "def train_one_epoch(model, dataloader, criterion, optimizer, device):\n",
    "    model.train()\n",
    "    total_loss = 0.0\n",
    "    \n",
    "    for images, labels in dataloader:\n",
    "        images, labels = images.to(device), labels.to(device)\n",
    "        \n",
    "        # Forward pass\n",
    "        outputs = model(images)\n",
    "        loss = criterion(outputs, labels)\n",
    "        \n",
    "        # Backward and optimize\n",
    "        optimizer.zero_grad()\n",
    "        loss.backward()\n",
    "        optimizer.step()\n",
    "        \n",
    "        total_loss += loss.item()\n",
    "    \n",
    "    return total_loss / len(dataloader)"
   ]
  },
  {
   "cell_type": "code",
   "execution_count": 7,
   "metadata": {},
   "outputs": [],
   "source": [
    "def validate(model, val_loader, device):\n",
    "    model.eval()\n",
    "    correct = 0\n",
    "    total = 0\n",
    "    \n",
    "    with torch.no_grad():\n",
    "        for images, labels in val_loader:\n",
    "            images, labels = images.to(device), labels.to(device)\n",
    "            outputs = model(images)\n",
    "            _, predicted = torch.max(outputs, 1)\n",
    "            total += labels.size(0)\n",
    "            correct += (predicted == labels).sum().item()\n",
    "    \n",
    "    accuracy = 100 * correct / total\n",
    "    return accuracy"
   ]
  },
  {
   "cell_type": "code",
   "execution_count": 8,
   "metadata": {},
   "outputs": [],
   "source": [
    "def train_and_evaluate(hparams):\n",
    "    \"\"\"\n",
    "    hparams: dictionary containing hyperparameters such as:\n",
    "        {\n",
    "          'learning_rate': float,\n",
    "          'hidden_size': int,\n",
    "          'batch_size': int,\n",
    "          'epochs': int\n",
    "        }\n",
    "    \"\"\"\n",
    "    \n",
    "    # Create the model\n",
    "    model = SimpleNet(input_dim=784, \n",
    "                      hidden_dim=hparams['hidden_size'], \n",
    "                      output_dim=10).to(device)\n",
    "    \n",
    "    # Prepare DataLoader with the chosen batch size\n",
    "    train_loader = DataLoader(train_dataset, \n",
    "                              batch_size=hparams['batch_size'], \n",
    "                              shuffle=True)\n",
    "    \n",
    "    # Define loss function and optimizer\n",
    "    criterion = nn.CrossEntropyLoss()\n",
    "    optimizer = optim.Adam(model.parameters(), lr=hparams['learning_rate'])\n",
    "    \n",
    "    # Training loop\n",
    "    for epoch in range(hparams['epochs']):\n",
    "        train_loss = train_one_epoch(model, train_loader, criterion, optimizer, device)\n",
    "        val_acc = validate(model, val_loader, device)\n",
    "        print(f\"Epoch [{epoch+1}/{hparams['epochs']}], \"\n",
    "              f\"Train Loss: {train_loss:.4f}, Validation Accuracy: {val_acc:.2f}%\")\n",
    "    \n",
    "    # Final validation accuracy after training\n",
    "    final_val_acc = validate(model, val_loader, device)\n",
    "    return final_val_acc"
   ]
  },
  {
   "cell_type": "code",
   "execution_count": 9,
   "metadata": {},
   "outputs": [],
   "source": [
    "def objective(trial):\n",
    "    # --------------------------------------\n",
    "    # 1. Suggest hyperparameters\n",
    "    # --------------------------------------\n",
    "    learning_rate = trial.suggest_float(\"learning_rate\", 1e-4, 1e-1, log=True)\n",
    "    hidden_size = trial.suggest_categorical(\"hidden_size\", [128, 256, 512])\n",
    "    batch_size = trial.suggest_categorical(\"batch_size\", [32, 64, 128])\n",
    "    epochs = 3  # Or make this a trial suggestion if you want to optimize epochs as well\n",
    "\n",
    "\n",
    "    model = SimpleNet(input_dim=784, hidden_dim=hidden_size, output_dim=10).to(device)\n",
    "\n",
    "    train_loader = DataLoader(train_dataset, batch_size=batch_size, shuffle=True)\n",
    "\n",
    "    criterion = nn.CrossEntropyLoss()\n",
    "    optimizer = optim.Adam(model.parameters(), lr=learning_rate)\n",
    "\n",
    "    # --------------------------------------\n",
    "    # 3. Training loop\n",
    "    # --------------------------------------\n",
    "    for epoch in range(epochs):\n",
    "        train_loss = train_one_epoch(model, train_loader, criterion, optimizer, device)\n",
    "        val_acc = validate(model, val_loader, device)\n",
    "        # (Optional) Report intermediate results to Optuna\n",
    "        trial.report(val_acc, step=epoch)\n",
    "\n",
    "        # If the performance is getting worse or stuck, we can use\n",
    "        # Optuna's \"pruning\" to stop early. This is optional but useful\n",
    "        # to speed up the search.\n",
    "        if trial.should_prune():\n",
    "            raise optuna.exceptions.TrialPruned()\n",
    "\n",
    "    # --------------------------------------\n",
    "    # 4. Final validation accuracy\n",
    "    # --------------------------------------\n",
    "    final_val_acc = validate(model, val_loader, device)\n",
    "    return final_val_acc\n"
   ]
  },
  {
   "cell_type": "code",
   "execution_count": null,
   "metadata": {},
   "outputs": [],
   "source": [
    "if __name__ == \"__main__\":\n",
    "    # Create a study object (Optuna tries to maximize or minimize an objective)\n",
    "    # We use \"maximize\" because we're trying to maximize validation accuracy\n",
    "    study = optuna.create_study(direction=\"maximize\")\n",
    "    \n",
    "    # Launch the hyperparameter search. \n",
    "    # n_trials determines how many sets of hyperparameters to try.\n",
    "    study.optimize(objective, n_trials=5, timeout=None)\n",
    "    import optuna.visualization as viz\n",
    "\n",
    "    fig = viz.plot_optimization_history(study)\n",
    "    fig.show()\n",
    "    fig = viz.plot_parallel_coordinate(study)\n",
    "    fig.show()\n",
    "    fig = viz.plot_slice(study)\n",
    "    fig.show()\n",
    "    fig = viz.plot_param_importances(study)\n",
    "    fig.show()\n",
    "    \n",
    "\n",
    "    # Print results\n",
    "    print(\"Number of finished trials:\", len(study.trials))\n",
    "    print(\"Best trial:\")\n",
    "    best_trial = study.best_trial\n",
    "    \n",
    "    print(f\"  Value (Accuracy): {best_trial.value}\")\n",
    "    print(\"  Params:\")\n",
    "    for key, value in best_trial.params.items():\n",
    "        print(f\"    {key}: {value}\")\n"
   ]
  }
 ],
 "metadata": {
  "kernelspec": {
   "display_name": "pytorch_para_tunning",
   "language": "python",
   "name": "python3"
  },
  "language_info": {
   "codemirror_mode": {
    "name": "ipython",
    "version": 3
   },
   "file_extension": ".py",
   "mimetype": "text/x-python",
   "name": "python",
   "nbconvert_exporter": "python",
   "pygments_lexer": "ipython3",
   "version": "3.12.8"
  }
 },
 "nbformat": 4,
 "nbformat_minor": 2
}
